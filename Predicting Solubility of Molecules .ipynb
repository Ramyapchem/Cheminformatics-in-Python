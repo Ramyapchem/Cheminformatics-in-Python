{
 "cells": [
  {
   "cell_type": "markdown",
   "metadata": {},
   "source": [
    "# Cheminformatics in Python: Predicting Solubility of Molecules"
   ]
  },
  {
   "cell_type": "markdown",
   "metadata": {},
   "source": [
    "\n",
    "                       Solubility, the phenomenon of dissolution of solute in solvent to give a homogenous system, is one of the important parameters to achieve desired concentration of drug in systemic circulation for desired pharmacological   response. Low aqueous solubility is the major problem encountered with formulation development of new chemical entities as well as for the generic development. More than 40% NCEs (new chemical entities) developed in pharmaceutical industry are practically insoluble in water.\n",
    "\n",
    "                    Solubility is still a major challenge for molecule optimization. Any drug to be absorbed must be present in the form of solution at the site of absorption. The enhancement of the solubility of poorly soluble drugs involves a lot of trials and errors, which calls for AI's guidance.                   \n",
    "                         "
   ]
  },
  {
   "cell_type": "markdown",
   "metadata": {
    "id": "Y-zXSyCoQPdJ"
   },
   "source": [
    "                     Estimated Aqueous Solubility (delaney) is a standard regression dataset containing structures and water    solubility  data for 1128 compounds.The dataset is widely used to validate machine learning models on estimating        solubility directly from molecular structures (as encoded in SMILES strings).\n",
    "             "
   ]
  },
  {
   "cell_type": "markdown",
   "metadata": {},
   "source": [
    "#### Reference:  \n",
    "Delaney, John S. \"ESOL: estimating aqueous solubility directly from molecular structure.\" Journal of chemical information and computer sciences 44.3 (2004): 1000-1005.  "
   ]
  },
  {
   "cell_type": "markdown",
   "metadata": {},
   "source": [
    "## Import Libraries :"
   ]
  },
  {
   "cell_type": "code",
   "execution_count": 1,
   "metadata": {
    "id": "5gzjE3V0LsqI"
   },
   "outputs": [],
   "source": [
    "import pandas as pd\n",
    "import numpy as np\n",
    "from rdkit import Chem\n",
    "from rdkit.Chem import Draw\n",
    "from rdkit.Chem.Draw import IPythonConsole\n",
    "from rdkit.Chem import Descriptors"
   ]
  },
  {
   "cell_type": "markdown",
   "metadata": {},
   "source": [
    "## Load data :"
   ]
  },
  {
   "cell_type": "code",
   "execution_count": 2,
   "metadata": {
    "id": "Pr9QMuoQm3VU"
   },
   "outputs": [],
   "source": [
    "solubility = pd.read_csv('delaney-processed.csv')"
   ]
  },
  {
   "cell_type": "code",
   "execution_count": 3,
   "metadata": {
    "colab": {
     "base_uri": "https://localhost:8080/",
     "height": 268
    },
    "id": "eV87oFGnKHt4",
    "outputId": "60581f05-251c-4a68-fbb7-a697ed2bfb9c"
   },
   "outputs": [
    {
     "data": {
      "text/html": [
       "<div>\n",
       "<style scoped>\n",
       "    .dataframe tbody tr th:only-of-type {\n",
       "        vertical-align: middle;\n",
       "    }\n",
       "\n",
       "    .dataframe tbody tr th {\n",
       "        vertical-align: top;\n",
       "    }\n",
       "\n",
       "    .dataframe thead th {\n",
       "        text-align: right;\n",
       "    }\n",
       "</style>\n",
       "<table border=\"1\" class=\"dataframe\">\n",
       "  <thead>\n",
       "    <tr style=\"text-align: right;\">\n",
       "      <th></th>\n",
       "      <th>Compound ID</th>\n",
       "      <th>ESOL predicted log solubility in mols per litre</th>\n",
       "      <th>Minimum Degree</th>\n",
       "      <th>Molecular Weight</th>\n",
       "      <th>Number of H-Bond Donors</th>\n",
       "      <th>Number of Rings</th>\n",
       "      <th>Number of Rotatable Bonds</th>\n",
       "      <th>Polar Surface Area</th>\n",
       "      <th>measured log solubility in mols per litre</th>\n",
       "      <th>smiles</th>\n",
       "    </tr>\n",
       "  </thead>\n",
       "  <tbody>\n",
       "    <tr>\n",
       "      <th>0</th>\n",
       "      <td>Amigdalin</td>\n",
       "      <td>-0.974</td>\n",
       "      <td>1</td>\n",
       "      <td>457.432</td>\n",
       "      <td>7</td>\n",
       "      <td>3</td>\n",
       "      <td>7</td>\n",
       "      <td>202.32</td>\n",
       "      <td>-0.77</td>\n",
       "      <td>OCC3OC(OCC2OC(OC(C#N)c1ccccc1)C(O)C(O)C2O)C(O)...</td>\n",
       "    </tr>\n",
       "    <tr>\n",
       "      <th>1</th>\n",
       "      <td>Fenfuram</td>\n",
       "      <td>-2.885</td>\n",
       "      <td>1</td>\n",
       "      <td>201.225</td>\n",
       "      <td>1</td>\n",
       "      <td>2</td>\n",
       "      <td>2</td>\n",
       "      <td>42.24</td>\n",
       "      <td>-3.30</td>\n",
       "      <td>Cc1occc1C(=O)Nc2ccccc2</td>\n",
       "    </tr>\n",
       "    <tr>\n",
       "      <th>2</th>\n",
       "      <td>citral</td>\n",
       "      <td>-2.579</td>\n",
       "      <td>1</td>\n",
       "      <td>152.237</td>\n",
       "      <td>0</td>\n",
       "      <td>0</td>\n",
       "      <td>4</td>\n",
       "      <td>17.07</td>\n",
       "      <td>-2.06</td>\n",
       "      <td>CC(C)=CCCC(C)=CC(=O)</td>\n",
       "    </tr>\n",
       "    <tr>\n",
       "      <th>3</th>\n",
       "      <td>Picene</td>\n",
       "      <td>-6.618</td>\n",
       "      <td>2</td>\n",
       "      <td>278.354</td>\n",
       "      <td>0</td>\n",
       "      <td>5</td>\n",
       "      <td>0</td>\n",
       "      <td>0.00</td>\n",
       "      <td>-7.87</td>\n",
       "      <td>c1ccc2c(c1)ccc3c2ccc4c5ccccc5ccc43</td>\n",
       "    </tr>\n",
       "    <tr>\n",
       "      <th>4</th>\n",
       "      <td>Thiophene</td>\n",
       "      <td>-2.232</td>\n",
       "      <td>2</td>\n",
       "      <td>84.143</td>\n",
       "      <td>0</td>\n",
       "      <td>1</td>\n",
       "      <td>0</td>\n",
       "      <td>0.00</td>\n",
       "      <td>-1.33</td>\n",
       "      <td>c1ccsc1</td>\n",
       "    </tr>\n",
       "  </tbody>\n",
       "</table>\n",
       "</div>"
      ],
      "text/plain": [
       "  Compound ID  ESOL predicted log solubility in mols per litre  \\\n",
       "0   Amigdalin                                           -0.974   \n",
       "1    Fenfuram                                           -2.885   \n",
       "2      citral                                           -2.579   \n",
       "3      Picene                                           -6.618   \n",
       "4   Thiophene                                           -2.232   \n",
       "\n",
       "   Minimum Degree  Molecular Weight  Number of H-Bond Donors  Number of Rings  \\\n",
       "0               1           457.432                        7                3   \n",
       "1               1           201.225                        1                2   \n",
       "2               1           152.237                        0                0   \n",
       "3               2           278.354                        0                5   \n",
       "4               2            84.143                        0                1   \n",
       "\n",
       "   Number of Rotatable Bonds  Polar Surface Area  \\\n",
       "0                          7              202.32   \n",
       "1                          2               42.24   \n",
       "2                          4               17.07   \n",
       "3                          0                0.00   \n",
       "4                          0                0.00   \n",
       "\n",
       "   measured log solubility in mols per litre  \\\n",
       "0                                      -0.77   \n",
       "1                                      -3.30   \n",
       "2                                      -2.06   \n",
       "3                                      -7.87   \n",
       "4                                      -1.33   \n",
       "\n",
       "                                              smiles  \n",
       "0  OCC3OC(OCC2OC(OC(C#N)c1ccccc1)C(O)C(O)C2O)C(O)...  \n",
       "1                             Cc1occc1C(=O)Nc2ccccc2  \n",
       "2                               CC(C)=CCCC(C)=CC(=O)  \n",
       "3                 c1ccc2c(c1)ccc3c2ccc4c5ccccc5ccc43  \n",
       "4                                            c1ccsc1  "
      ]
     },
     "execution_count": 3,
     "metadata": {},
     "output_type": "execute_result"
    }
   ],
   "source": [
    "solubility.head()"
   ]
  },
  {
   "cell_type": "markdown",
   "metadata": {},
   "source": [
    "## Examining the SMILES data :"
   ]
  },
  {
   "cell_type": "markdown",
   "metadata": {},
   "source": [
    "Chemical structures are encoded by a string of text known as **SMILES** which is an acronym for **Simplified Molecular-Input Line-Entry System**."
   ]
  },
  {
   "cell_type": "code",
   "execution_count": 4,
   "metadata": {},
   "outputs": [
    {
     "data": {
      "text/plain": [
       "0       OCC3OC(OCC2OC(OC(C#N)c1ccccc1)C(O)C(O)C2O)C(O)...\n",
       "1                                  Cc1occc1C(=O)Nc2ccccc2\n",
       "2                                    CC(C)=CCCC(C)=CC(=O)\n",
       "3                      c1ccc2c(c1)ccc3c2ccc4c5ccccc5ccc43\n",
       "4                                                 c1ccsc1\n",
       "                              ...                        \n",
       "1123                                     FC(F)(F)C(Cl)Br \n",
       "1124                            CNC(=O)ON=C(SC)C(=O)N(C)C\n",
       "1125                                    CCSCCSP(=S)(OC)OC\n",
       "1126                                              CCC(C)C\n",
       "1127                COP(=O)(OC)OC(=CCl)c1cc(Cl)c(Cl)cc1Cl\n",
       "Name: smiles, Length: 1128, dtype: object"
      ]
     },
     "execution_count": 4,
     "metadata": {},
     "output_type": "execute_result"
    }
   ],
   "source": [
    "solubility.smiles"
   ]
  },
  {
   "cell_type": "code",
   "execution_count": 5,
   "metadata": {},
   "outputs": [
    {
     "data": {
      "text/plain": [
       "'OCC3OC(OCC2OC(OC(C#N)c1ccccc1)C(O)C(O)C2O)C(O)C(O)C3O '"
      ]
     },
     "execution_count": 5,
     "metadata": {},
     "output_type": "execute_result"
    }
   ],
   "source": [
    "solubility.smiles[0]"
   ]
  },
  {
   "cell_type": "code",
   "execution_count": 6,
   "metadata": {},
   "outputs": [],
   "source": [
    "m = Chem.MolFromSmiles(solubility.smiles[0])"
   ]
  },
  {
   "cell_type": "code",
   "execution_count": 7,
   "metadata": {
    "colab": {
     "base_uri": "https://localhost:8080/",
     "height": 167
    },
    "id": "PZ2eizBsNvyT",
    "outputId": "dd58c797-dd5f-4bdb-dcc0-58b5e4174167"
   },
   "outputs": [
    {
     "data": {
      "image/png": "[encoded data removed]",
      "text/plain": [
       "<rdkit.Chem.rdchem.Mol at 0x875ebe0>"
      ]
     },
     "execution_count": 7,
     "metadata": {},
     "output_type": "execute_result"
    }
   ],
   "source": [
    "m"
   ]
  },
  {
   "cell_type": "code",
   "execution_count": 8,
   "metadata": {},
   "outputs": [
    {
     "data": {
      "text/plain": [
       "32"
      ]
     },
     "execution_count": 8,
     "metadata": {},
     "output_type": "execute_result"
    }
   ],
   "source": [
    "m.GetNumAtoms()"
   ]
  },
  {
   "cell_type": "markdown",
   "metadata": {},
   "source": [
    "## Calculate molecular descriptors :"
   ]
  },
  {
   "cell_type": "markdown",
   "metadata": {},
   "source": [
    "To predict **LogS** (log of the aqueous solubility), the study by Delaney makes use of 4 molecular descriptors:\n",
    "\n",
    "1. cLogP (Octanol-water partition coefficient)\n",
    "2. MW (Molecular weight)\n",
    "3. RB (Number of rotatable bonds)\n",
    "4. AP (Aromatic proportion = number of aromatic atoms / total number of heavy atoms)\n",
    "\n",
    "    Molecular weight and number of rotatabe bonds are readily available from the CSV file provided. LogP can be readily calculated using rdkit. As for the AP descriptor, we will calculate this by manually computing the ratio of the number of aromatic atoms to the total number of heavy atoms which rdkit can compute."
   ]
  },
  {
   "cell_type": "markdown",
   "metadata": {
    "id": "CiZbLa1o4TiC"
   },
   "source": [
    "### Calculating logP :\n",
    "\n",
    "\n"
   ]
  },
  {
   "cell_type": "code",
   "execution_count": 9,
   "metadata": {},
   "outputs": [],
   "source": [
    "from rdkit.Chem import PandasTools\n",
    "import warnings\n",
    "warnings.filterwarnings('ignore')"
   ]
  },
  {
   "cell_type": "code",
   "execution_count": 10,
   "metadata": {},
   "outputs": [],
   "source": [
    "PandasTools.AddMoleculeColumnToFrame(solubility, smilesCol='smiles',molCol='ROMol',)"
   ]
  },
  {
   "cell_type": "code",
   "execution_count": 57,
   "metadata": {},
   "outputs": [
    {
     "data": {
      "text/html": [
       "<div>\n",
       "<style scoped>\n",
       "    .dataframe tbody tr th:only-of-type {\n",
       "        vertical-align: middle;\n",
       "    }\n",
       "\n",
       "    .dataframe tbody tr th {\n",
       "        vertical-align: top;\n",
       "    }\n",
       "\n",
       "    .dataframe thead th {\n",
       "        text-align: right;\n",
       "    }\n",
       "</style>\n",
       "<table border=\"1\" class=\"dataframe\">\n",
       "  <thead>\n",
       "    <tr style=\"text-align: right;\">\n",
       "      <th></th>\n",
       "      <th>Compound ID</th>\n",
       "      <th>ESOL predicted log solubility in mols per litre</th>\n",
       "      <th>Minimum Degree</th>\n",
       "      <th>Molecular Weight</th>\n",
       "      <th>Number of H-Bond Donors</th>\n",
       "      <th>Number of Rings</th>\n",
       "      <th>Number of Rotatable Bonds</th>\n",
       "      <th>Polar Surface Area</th>\n",
       "      <th>measured log solubility in mols per litre</th>\n",
       "      <th>smiles</th>\n",
       "      <th>ROMol</th>\n",
       "      <th>LogP</th>\n",
       "    </tr>\n",
       "  </thead>\n",
       "  <tbody>\n",
       "    <tr>\n",
       "      <th>0</th>\n",
       "      <td>Amigdalin</td>\n",
       "      <td>-0.974</td>\n",
       "      <td>1</td>\n",
       "      <td>457.432</td>\n",
       "      <td>7</td>\n",
       "      <td>3</td>\n",
       "      <td>7</td>\n",
       "      <td>202.32</td>\n",
       "      <td>-0.77</td>\n",
       "      <td>OCC3OC(OCC2OC(OC(C#N)c1ccccc1)C(O)C(O)C2O)C(O)...</td>\n",
       "      <td style=\"text-align: center;\"><img data-content=\"rdkit/molecule\" src=\"data:image/png;base64,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\" alt=\"Mol\"/></td>\n",
       "      <td>-3.10802</td>\n",
       "    </tr>\n",
       "    <tr>\n",
       "      <th>1</th>\n",
       "      <td>Fenfuram</td>\n",
       "      <td>-2.885</td>\n",
       "      <td>1</td>\n",
       "      <td>201.225</td>\n",
       "      <td>1</td>\n",
       "      <td>2</td>\n",
       "      <td>2</td>\n",
       "      <td>42.24</td>\n",
       "      <td>-3.30</td>\n",
       "      <td>Cc1occc1C(=O)Nc2ccccc2</td>\n",
       "      <td style=\"text-align: center;\"><img data-content=\"rdkit/molecule\" src=\"data:image/png;base64,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\" alt=\"Mol\"/></td>\n",
       "      <td>2.84032</td>\n",
       "    </tr>\n",
       "    <tr>\n",
       "      <th>2</th>\n",
       "      <td>citral</td>\n",
       "      <td>-2.579</td>\n",
       "      <td>1</td>\n",
       "      <td>152.237</td>\n",
       "      <td>0</td>\n",
       "      <td>0</td>\n",
       "      <td>4</td>\n",
       "      <td>17.07</td>\n",
       "      <td>-2.06</td>\n",
       "      <td>CC(C)=CCCC(C)=CC(=O)</td>\n",
       "      <td style=\"text-align: center;\"><img data-content=\"rdkit/molecule\" src=\"data:image/png;base64,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\" alt=\"Mol\"/></td>\n",
       "      <td>2.87800</td>\n",
       "    </tr>\n",
       "    <tr>\n",
       "      <th>3</th>\n",
       "      <td>Picene</td>\n",
       "      <td>-6.618</td>\n",
       "      <td>2</td>\n",
       "      <td>278.354</td>\n",
       "      <td>0</td>\n",
       "      <td>5</td>\n",
       "      <td>0</td>\n",
       "      <td>0.00</td>\n",
       "      <td>-7.87</td>\n",
       "      <td>c1ccc2c(c1)ccc3c2ccc4c5ccccc5ccc43</td>\n",
       "      <td style=\"text-align: center;\"><img data-content=\"rdkit/molecule\" src=\"data:image/png;base64,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\" alt=\"Mol\"/></td>\n",
       "      <td>6.29940</td>\n",
       "    </tr>\n",
       "    <tr>\n",
       "      <th>4</th>\n",
       "      <td>Thiophene</td>\n",
       "      <td>-2.232</td>\n",
       "      <td>2</td>\n",
       "      <td>84.143</td>\n",
       "      <td>0</td>\n",
       "      <td>1</td>\n",
       "      <td>0</td>\n",
       "      <td>0.00</td>\n",
       "      <td>-1.33</td>\n",
       "      <td>c1ccsc1</td>\n",
       "      <td style=\"text-align: center;\"><img data-content=\"rdkit/molecule\" src=\"data:image/png;base64,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\" alt=\"Mol\"/></td>\n",
       "      <td>1.74810</td>\n",
       "    </tr>\n",
       "  </tbody>\n",
       "</table>\n",
       "</div>"
      ],
      "text/plain": [
       "  Compound ID  ESOL predicted log solubility in mols per litre  \\\n",
       "0   Amigdalin                                           -0.974   \n",
       "1    Fenfuram                                           -2.885   \n",
       "2      citral                                           -2.579   \n",
       "3      Picene                                           -6.618   \n",
       "4   Thiophene                                           -2.232   \n",
       "\n",
       "   Minimum Degree  Molecular Weight  Number of H-Bond Donors  Number of Rings  \\\n",
       "0               1           457.432                        7                3   \n",
       "1               1           201.225                        1                2   \n",
       "2               1           152.237                        0                0   \n",
       "3               2           278.354                        0                5   \n",
       "4               2            84.143                        0                1   \n",
       "\n",
       "   Number of Rotatable Bonds  Polar Surface Area  \\\n",
       "0                          7              202.32   \n",
       "1                          2               42.24   \n",
       "2                          4               17.07   \n",
       "3                          0                0.00   \n",
       "4                          0                0.00   \n",
       "\n",
       "   measured log solubility in mols per litre  \\\n",
       "0                                      -0.77   \n",
       "1                                      -3.30   \n",
       "2                                      -2.06   \n",
       "3                                      -7.87   \n",
       "4                                      -1.33   \n",
       "\n",
       "                                              smiles  \\\n",
       "0  OCC3OC(OCC2OC(OC(C#N)c1ccccc1)C(O)C(O)C2O)C(O)...   \n",
       "1                             Cc1occc1C(=O)Nc2ccccc2   \n",
       "2                               CC(C)=CCCC(C)=CC(=O)   \n",
       "3                 c1ccc2c(c1)ccc3c2ccc4c5ccccc5ccc43   \n",
       "4                                            c1ccsc1   \n",
       "\n",
       "                                               ROMol     LogP  \n",
       "0  <img data-content=\"rdkit/molecule\" src=\"data:i... -3.10802  \n",
       "1  <img data-content=\"rdkit/molecule\" src=\"data:i...  2.84032  \n",
       "2  <img data-content=\"rdkit/molecule\" src=\"data:i...  2.87800  \n",
       "3  <img data-content=\"rdkit/molecule\" src=\"data:i...  6.29940  \n",
       "4  <img data-content=\"rdkit/molecule\" src=\"data:i...  1.74810  "
      ]
     },
     "execution_count": 57,
     "metadata": {},
     "output_type": "execute_result"
    }
   ],
   "source": [
    "solubility.head(5)"
   ]
  },
  {
   "cell_type": "code",
   "execution_count": 12,
   "metadata": {},
   "outputs": [],
   "source": [
    "desc_MolLogP = [Descriptors.MolLogP(molecule) for molecule in solubility.ROMol]\n"
   ]
  },
  {
   "cell_type": "code",
   "execution_count": 13,
   "metadata": {},
   "outputs": [],
   "source": [
    "solubility['LogP'] = desc_MolLogP"
   ]
  },
  {
   "cell_type": "code",
   "execution_count": 14,
   "metadata": {},
   "outputs": [
    {
     "data": {
      "text/html": [
       "<div>\n",
       "<style scoped>\n",
       "    .dataframe tbody tr th:only-of-type {\n",
       "        vertical-align: middle;\n",
       "    }\n",
       "\n",
       "    .dataframe tbody tr th {\n",
       "        vertical-align: top;\n",
       "    }\n",
       "\n",
       "    .dataframe thead th {\n",
       "        text-align: right;\n",
       "    }\n",
       "</style>\n",
       "<table border=\"1\" class=\"dataframe\">\n",
       "  <thead>\n",
       "    <tr style=\"text-align: right;\">\n",
       "      <th></th>\n",
       "      <th>Compound ID</th>\n",
       "      <th>ESOL predicted log solubility in mols per litre</th>\n",
       "      <th>Minimum Degree</th>\n",
       "      <th>Molecular Weight</th>\n",
       "      <th>Number of H-Bond Donors</th>\n",
       "      <th>Number of Rings</th>\n",
       "      <th>Number of Rotatable Bonds</th>\n",
       "      <th>Polar Surface Area</th>\n",
       "      <th>measured log solubility in mols per litre</th>\n",
       "      <th>smiles</th>\n",
       "      <th>ROMol</th>\n",
       "      <th>LogP</th>\n",
       "    </tr>\n",
       "  </thead>\n",
       "  <tbody>\n",
       "    <tr>\n",
       "      <th>0</th>\n",
       "      <td>Amigdalin</td>\n",
       "      <td>-0.974</td>\n",
       "      <td>1</td>\n",
       "      <td>457.432</td>\n",
       "      <td>7</td>\n",
       "      <td>3</td>\n",
       "      <td>7</td>\n",
       "      <td>202.32</td>\n",
       "      <td>-0.77</td>\n",
       "      <td>OCC3OC(OCC2OC(OC(C#N)c1ccccc1)C(O)C(O)C2O)C(O)...</td>\n",
       "      <td style=\"text-align: center;\"><img data-content=\"rdkit/molecule\" src=\"data:image/png;base64,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\" alt=\"Mol\"/></td>\n",
       "      <td>-3.10802</td>\n",
       "    </tr>\n",
       "    <tr>\n",
       "      <th>1</th>\n",
       "      <td>Fenfuram</td>\n",
       "      <td>-2.885</td>\n",
       "      <td>1</td>\n",
       "      <td>201.225</td>\n",
       "      <td>1</td>\n",
       "      <td>2</td>\n",
       "      <td>2</td>\n",
       "      <td>42.24</td>\n",
       "      <td>-3.30</td>\n",
       "      <td>Cc1occc1C(=O)Nc2ccccc2</td>\n",
       "      <td style=\"text-align: center;\"><img data-content=\"rdkit/molecule\" src=\"data:image/png;base64,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\" alt=\"Mol\"/></td>\n",
       "      <td>2.84032</td>\n",
       "    </tr>\n",
       "    <tr>\n",
       "      <th>2</th>\n",
       "      <td>citral</td>\n",
       "      <td>-2.579</td>\n",
       "      <td>1</td>\n",
       "      <td>152.237</td>\n",
       "      <td>0</td>\n",
       "      <td>0</td>\n",
       "      <td>4</td>\n",
       "      <td>17.07</td>\n",
       "      <td>-2.06</td>\n",
       "      <td>CC(C)=CCCC(C)=CC(=O)</td>\n",
       "      <td style=\"text-align: center;\"><img data-content=\"rdkit/molecule\" src=\"data:image/png;base64,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\" alt=\"Mol\"/></td>\n",
       "      <td>2.87800</td>\n",
       "    </tr>\n",
       "    <tr>\n",
       "      <th>3</th>\n",
       "      <td>Picene</td>\n",
       "      <td>-6.618</td>\n",
       "      <td>2</td>\n",
       "      <td>278.354</td>\n",
       "      <td>0</td>\n",
       "      <td>5</td>\n",
       "      <td>0</td>\n",
       "      <td>0.00</td>\n",
       "      <td>-7.87</td>\n",
       "      <td>c1ccc2c(c1)ccc3c2ccc4c5ccccc5ccc43</td>\n",
       "      <td style=\"text-align: center;\"><img data-content=\"rdkit/molecule\" src=\"data:image/png;base64,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\" alt=\"Mol\"/></td>\n",
       "      <td>6.29940</td>\n",
       "    </tr>\n",
       "    <tr>\n",
       "      <th>4</th>\n",
       "      <td>Thiophene</td>\n",
       "      <td>-2.232</td>\n",
       "      <td>2</td>\n",
       "      <td>84.143</td>\n",
       "      <td>0</td>\n",
       "      <td>1</td>\n",
       "      <td>0</td>\n",
       "      <td>0.00</td>\n",
       "      <td>-1.33</td>\n",
       "      <td>c1ccsc1</td>\n",
       "      <td style=\"text-align: center;\"><img data-content=\"rdkit/molecule\" src=\"data:image/png;base64,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\" alt=\"Mol\"/></td>\n",
       "      <td>1.74810</td>\n",
       "    </tr>\n",
       "  </tbody>\n",
       "</table>\n",
       "</div>"
      ],
      "text/plain": [
       "  Compound ID  ESOL predicted log solubility in mols per litre  \\\n",
       "0   Amigdalin                                           -0.974   \n",
       "1    Fenfuram                                           -2.885   \n",
       "2      citral                                           -2.579   \n",
       "3      Picene                                           -6.618   \n",
       "4   Thiophene                                           -2.232   \n",
       "\n",
       "   Minimum Degree  Molecular Weight  Number of H-Bond Donors  Number of Rings  \\\n",
       "0               1           457.432                        7                3   \n",
       "1               1           201.225                        1                2   \n",
       "2               1           152.237                        0                0   \n",
       "3               2           278.354                        0                5   \n",
       "4               2            84.143                        0                1   \n",
       "\n",
       "   Number of Rotatable Bonds  Polar Surface Area  \\\n",
       "0                          7              202.32   \n",
       "1                          2               42.24   \n",
       "2                          4               17.07   \n",
       "3                          0                0.00   \n",
       "4                          0                0.00   \n",
       "\n",
       "   measured log solubility in mols per litre  \\\n",
       "0                                      -0.77   \n",
       "1                                      -3.30   \n",
       "2                                      -2.06   \n",
       "3                                      -7.87   \n",
       "4                                      -1.33   \n",
       "\n",
       "                                              smiles  \\\n",
       "0  OCC3OC(OCC2OC(OC(C#N)c1ccccc1)C(O)C(O)C2O)C(O)...   \n",
       "1                             Cc1occc1C(=O)Nc2ccccc2   \n",
       "2                               CC(C)=CCCC(C)=CC(=O)   \n",
       "3                 c1ccc2c(c1)ccc3c2ccc4c5ccccc5ccc43   \n",
       "4                                            c1ccsc1   \n",
       "\n",
       "                                               ROMol     LogP  \n",
       "0  <img data-content=\"rdkit/molecule\" src=\"data:i... -3.10802  \n",
       "1  <img data-content=\"rdkit/molecule\" src=\"data:i...  2.84032  \n",
       "2  <img data-content=\"rdkit/molecule\" src=\"data:i...  2.87800  \n",
       "3  <img data-content=\"rdkit/molecule\" src=\"data:i...  6.29940  \n",
       "4  <img data-content=\"rdkit/molecule\" src=\"data:i...  1.74810  "
      ]
     },
     "execution_count": 14,
     "metadata": {},
     "output_type": "execute_result"
    }
   ],
   "source": [
    "solubility.head()"
   ]
  },
  {
   "cell_type": "markdown",
   "metadata": {
    "id": "Kr1s01U84eLD"
   },
   "source": [
    "### Calculating the aromatic proportion :\n"
   ]
  },
  {
   "cell_type": "code",
   "execution_count": 15,
   "metadata": {
    "id": "k3eOdmqmpQM5"
   },
   "outputs": [],
   "source": [
    "mol_list= []\n",
    "for element in solubility.smiles:\n",
    "  mol = Chem.MolFromSmiles(element)\n",
    "  mol_list.append(mol)"
   ]
  },
  {
   "cell_type": "code",
   "execution_count": 16,
   "metadata": {
    "colab": {
     "base_uri": "https://localhost:8080/"
    },
    "id": "h2oPZXCL8-Oz",
    "outputId": "99e65d05-d84d-4039-94c2-176c55fa907a"
   },
   "outputs": [
    {
     "data": {
      "text/plain": [
       "1128"
      ]
     },
     "execution_count": 16,
     "metadata": {},
     "output_type": "execute_result"
    }
   ],
   "source": [
    "len(mol_list)"
   ]
  },
  {
   "cell_type": "code",
   "execution_count": 17,
   "metadata": {
    "id": "GTAftuk09vMn"
   },
   "outputs": [],
   "source": [
    "def AromaticAtoms(m):\n",
    "  aromatic_atoms = [m.GetAtomWithIdx(i).GetIsAromatic() for i in range(m.GetNumAtoms())]\n",
    "  aa_count = []\n",
    "  for i in aromatic_atoms:\n",
    "    if i==True:\n",
    "      aa_count.append(1)\n",
    "  sum_aa_count = sum(aa_count)\n",
    "  return sum_aa_count"
   ]
  },
  {
   "cell_type": "code",
   "execution_count": 18,
   "metadata": {
    "id": "IyEu1AYE9FVO"
   },
   "outputs": [],
   "source": [
    "desc_aromatic_proportion = [AromaticAtoms(element)/Descriptors.HeavyAtomCount(element) for element in mol_list]"
   ]
  },
  {
   "cell_type": "code",
   "execution_count": 19,
   "metadata": {
    "id": "fj2ZLTovBQGh"
   },
   "outputs": [],
   "source": [
    "columnname = ['AromaticProportion']"
   ]
  },
  {
   "cell_type": "code",
   "execution_count": 20,
   "metadata": {
    "id": "wuOiVSDmAqCr"
   },
   "outputs": [],
   "source": [
    "df_aa = pd.DataFrame(desc_aromatic_proportion,columns=columnname)"
   ]
  },
  {
   "cell_type": "code",
   "execution_count": 21,
   "metadata": {
    "colab": {
     "base_uri": "https://localhost:8080/",
     "height": 424
    },
    "id": "wLdUw3xvBhfU",
    "outputId": "971a1f9a-ba42-41fb-c8d0-0477d576b0fa"
   },
   "outputs": [
    {
     "data": {
      "text/html": [
       "<div>\n",
       "<style scoped>\n",
       "    .dataframe tbody tr th:only-of-type {\n",
       "        vertical-align: middle;\n",
       "    }\n",
       "\n",
       "    .dataframe tbody tr th {\n",
       "        vertical-align: top;\n",
       "    }\n",
       "\n",
       "    .dataframe thead th {\n",
       "        text-align: right;\n",
       "    }\n",
       "</style>\n",
       "<table border=\"1\" class=\"dataframe\">\n",
       "  <thead>\n",
       "    <tr style=\"text-align: right;\">\n",
       "      <th></th>\n",
       "      <th>AromaticProportion</th>\n",
       "    </tr>\n",
       "  </thead>\n",
       "  <tbody>\n",
       "    <tr>\n",
       "      <th>0</th>\n",
       "      <td>0.187500</td>\n",
       "    </tr>\n",
       "    <tr>\n",
       "      <th>1</th>\n",
       "      <td>0.733333</td>\n",
       "    </tr>\n",
       "    <tr>\n",
       "      <th>2</th>\n",
       "      <td>0.000000</td>\n",
       "    </tr>\n",
       "    <tr>\n",
       "      <th>3</th>\n",
       "      <td>1.000000</td>\n",
       "    </tr>\n",
       "    <tr>\n",
       "      <th>4</th>\n",
       "      <td>1.000000</td>\n",
       "    </tr>\n",
       "    <tr>\n",
       "      <th>...</th>\n",
       "      <td>...</td>\n",
       "    </tr>\n",
       "    <tr>\n",
       "      <th>1123</th>\n",
       "      <td>0.000000</td>\n",
       "    </tr>\n",
       "    <tr>\n",
       "      <th>1124</th>\n",
       "      <td>0.000000</td>\n",
       "    </tr>\n",
       "    <tr>\n",
       "      <th>1125</th>\n",
       "      <td>0.000000</td>\n",
       "    </tr>\n",
       "    <tr>\n",
       "      <th>1126</th>\n",
       "      <td>0.000000</td>\n",
       "    </tr>\n",
       "    <tr>\n",
       "      <th>1127</th>\n",
       "      <td>0.315789</td>\n",
       "    </tr>\n",
       "  </tbody>\n",
       "</table>\n",
       "<p>1128 rows × 1 columns</p>\n",
       "</div>"
      ],
      "text/plain": [
       "      AromaticProportion\n",
       "0               0.187500\n",
       "1               0.733333\n",
       "2               0.000000\n",
       "3               1.000000\n",
       "4               1.000000\n",
       "...                  ...\n",
       "1123            0.000000\n",
       "1124            0.000000\n",
       "1125            0.000000\n",
       "1126            0.000000\n",
       "1127            0.315789\n",
       "\n",
       "[1128 rows x 1 columns]"
      ]
     },
     "execution_count": 21,
     "metadata": {},
     "output_type": "execute_result"
    }
   ],
   "source": [
    "df_aa"
   ]
  },
  {
   "cell_type": "code",
   "execution_count": 22,
   "metadata": {
    "id": "Lju8flI3Bqrn"
   },
   "outputs": [],
   "source": [
    "df_sol = pd.concat([solubility,df_aa], axis=1)"
   ]
  },
  {
   "cell_type": "markdown",
   "metadata": {},
   "source": [
    "## Final Data :"
   ]
  },
  {
   "cell_type": "code",
   "execution_count": 23,
   "metadata": {
    "colab": {
     "base_uri": "https://localhost:8080/",
     "height": 520
    },
    "id": "jASHG65rB_59",
    "outputId": "ba7cac6a-21b4-4d4d-bd60-e0c1f57e49e8"
   },
   "outputs": [
    {
     "data": {
      "text/html": [
       "<div>\n",
       "<style scoped>\n",
       "    .dataframe tbody tr th:only-of-type {\n",
       "        vertical-align: middle;\n",
       "    }\n",
       "\n",
       "    .dataframe tbody tr th {\n",
       "        vertical-align: top;\n",
       "    }\n",
       "\n",
       "    .dataframe thead th {\n",
       "        text-align: right;\n",
       "    }\n",
       "</style>\n",
       "<table border=\"1\" class=\"dataframe\">\n",
       "  <thead>\n",
       "    <tr style=\"text-align: right;\">\n",
       "      <th></th>\n",
       "      <th>Compound ID</th>\n",
       "      <th>ESOL predicted log solubility in mols per litre</th>\n",
       "      <th>Minimum Degree</th>\n",
       "      <th>Molecular Weight</th>\n",
       "      <th>Number of H-Bond Donors</th>\n",
       "      <th>Number of Rings</th>\n",
       "      <th>Number of Rotatable Bonds</th>\n",
       "      <th>Polar Surface Area</th>\n",
       "      <th>measured log solubility in mols per litre</th>\n",
       "      <th>smiles</th>\n",
       "      <th>ROMol</th>\n",
       "      <th>LogP</th>\n",
       "      <th>AromaticProportion</th>\n",
       "    </tr>\n",
       "  </thead>\n",
       "  <tbody>\n",
       "    <tr>\n",
       "      <th>0</th>\n",
       "      <td>Amigdalin</td>\n",
       "      <td>-0.974</td>\n",
       "      <td>1</td>\n",
       "      <td>457.432</td>\n",
       "      <td>7</td>\n",
       "      <td>3</td>\n",
       "      <td>7</td>\n",
       "      <td>202.32</td>\n",
       "      <td>-0.77</td>\n",
       "      <td>OCC3OC(OCC2OC(OC(C#N)c1ccccc1)C(O)C(O)C2O)C(O)...</td>\n",
       "      <td style=\"text-align: center;\"><img data-content=\"rdkit/molecule\" src=\"data:image/png;base64,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\" alt=\"Mol\"/></td>\n",
       "      <td>-3.10802</td>\n",
       "      <td>0.187500</td>\n",
       "    </tr>\n",
       "    <tr>\n",
       "      <th>1</th>\n",
       "      <td>Fenfuram</td>\n",
       "      <td>-2.885</td>\n",
       "      <td>1</td>\n",
       "      <td>201.225</td>\n",
       "      <td>1</td>\n",
       "      <td>2</td>\n",
       "      <td>2</td>\n",
       "      <td>42.24</td>\n",
       "      <td>-3.30</td>\n",
       "      <td>Cc1occc1C(=O)Nc2ccccc2</td>\n",
       "      <td style=\"text-align: center;\"><img data-content=\"rdkit/molecule\" src=\"data:image/png;base64,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\" alt=\"Mol\"/></td>\n",
       "      <td>2.84032</td>\n",
       "      <td>0.733333</td>\n",
       "    </tr>\n",
       "    <tr>\n",
       "      <th>2</th>\n",
       "      <td>citral</td>\n",
       "      <td>-2.579</td>\n",
       "      <td>1</td>\n",
       "      <td>152.237</td>\n",
       "      <td>0</td>\n",
       "      <td>0</td>\n",
       "      <td>4</td>\n",
       "      <td>17.07</td>\n",
       "      <td>-2.06</td>\n",
       "      <td>CC(C)=CCCC(C)=CC(=O)</td>\n",
       "      <td style=\"text-align: center;\"><img data-content=\"rdkit/molecule\" src=\"data:image/png;base64,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\" alt=\"Mol\"/></td>\n",
       "      <td>2.87800</td>\n",
       "      <td>0.000000</td>\n",
       "    </tr>\n",
       "    <tr>\n",
       "      <th>3</th>\n",
       "      <td>Picene</td>\n",
       "      <td>-6.618</td>\n",
       "      <td>2</td>\n",
       "      <td>278.354</td>\n",
       "      <td>0</td>\n",
       "      <td>5</td>\n",
       "      <td>0</td>\n",
       "      <td>0.00</td>\n",
       "      <td>-7.87</td>\n",
       "      <td>c1ccc2c(c1)ccc3c2ccc4c5ccccc5ccc43</td>\n",
       "      <td style=\"text-align: center;\"><img data-content=\"rdkit/molecule\" src=\"data:image/png;base64,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\" alt=\"Mol\"/></td>\n",
       "      <td>6.29940</td>\n",
       "      <td>1.000000</td>\n",
       "    </tr>\n",
       "    <tr>\n",
       "      <th>4</th>\n",
       "      <td>Thiophene</td>\n",
       "      <td>-2.232</td>\n",
       "      <td>2</td>\n",
       "      <td>84.143</td>\n",
       "      <td>0</td>\n",
       "      <td>1</td>\n",
       "      <td>0</td>\n",
       "      <td>0.00</td>\n",
       "      <td>-1.33</td>\n",
       "      <td>c1ccsc1</td>\n",
       "      <td style=\"text-align: center;\"><img data-content=\"rdkit/molecule\" src=\"data:image/png;base64,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\" alt=\"Mol\"/></td>\n",
       "      <td>1.74810</td>\n",
       "      <td>1.000000</td>\n",
       "    </tr>\n",
       "  </tbody>\n",
       "</table>\n",
       "</div>"
      ],
      "text/plain": [
       "  Compound ID  ESOL predicted log solubility in mols per litre  \\\n",
       "0   Amigdalin                                           -0.974   \n",
       "1    Fenfuram                                           -2.885   \n",
       "2      citral                                           -2.579   \n",
       "3      Picene                                           -6.618   \n",
       "4   Thiophene                                           -2.232   \n",
       "\n",
       "   Minimum Degree  Molecular Weight  Number of H-Bond Donors  Number of Rings  \\\n",
       "0               1           457.432                        7                3   \n",
       "1               1           201.225                        1                2   \n",
       "2               1           152.237                        0                0   \n",
       "3               2           278.354                        0                5   \n",
       "4               2            84.143                        0                1   \n",
       "\n",
       "   Number of Rotatable Bonds  Polar Surface Area  \\\n",
       "0                          7              202.32   \n",
       "1                          2               42.24   \n",
       "2                          4               17.07   \n",
       "3                          0                0.00   \n",
       "4                          0                0.00   \n",
       "\n",
       "   measured log solubility in mols per litre  \\\n",
       "0                                      -0.77   \n",
       "1                                      -3.30   \n",
       "2                                      -2.06   \n",
       "3                                      -7.87   \n",
       "4                                      -1.33   \n",
       "\n",
       "                                              smiles  \\\n",
       "0  OCC3OC(OCC2OC(OC(C#N)c1ccccc1)C(O)C(O)C2O)C(O)...   \n",
       "1                             Cc1occc1C(=O)Nc2ccccc2   \n",
       "2                               CC(C)=CCCC(C)=CC(=O)   \n",
       "3                 c1ccc2c(c1)ccc3c2ccc4c5ccccc5ccc43   \n",
       "4                                            c1ccsc1   \n",
       "\n",
       "                                               ROMol     LogP  \\\n",
       "0  <img data-content=\"rdkit/molecule\" src=\"data:i... -3.10802   \n",
       "1  <img data-content=\"rdkit/molecule\" src=\"data:i...  2.84032   \n",
       "2  <img data-content=\"rdkit/molecule\" src=\"data:i...  2.87800   \n",
       "3  <img data-content=\"rdkit/molecule\" src=\"data:i...  6.29940   \n",
       "4  <img data-content=\"rdkit/molecule\" src=\"data:i...  1.74810   \n",
       "\n",
       "   AromaticProportion  \n",
       "0            0.187500  \n",
       "1            0.733333  \n",
       "2            0.000000  \n",
       "3            1.000000  \n",
       "4            1.000000  "
      ]
     },
     "execution_count": 23,
     "metadata": {},
     "output_type": "execute_result"
    }
   ],
   "source": [
    "df_sol.head()"
   ]
  },
  {
   "cell_type": "markdown",
   "metadata": {
    "id": "DisvghqADHhF"
   },
   "source": [
    "## Linear Regression Model :"
   ]
  },
  {
   "cell_type": "code",
   "execution_count": 24,
   "metadata": {
    "colab": {
     "base_uri": "https://localhost:8080/",
     "height": 424
    },
    "id": "wFgqrtlfDMdA",
    "outputId": "5dda414a-ed83-4ddb-c5e3-6477b5f6b663"
   },
   "outputs": [
    {
     "data": {
      "text/html": [
       "<div>\n",
       "<style scoped>\n",
       "    .dataframe tbody tr th:only-of-type {\n",
       "        vertical-align: middle;\n",
       "    }\n",
       "\n",
       "    .dataframe tbody tr th {\n",
       "        vertical-align: top;\n",
       "    }\n",
       "\n",
       "    .dataframe thead th {\n",
       "        text-align: right;\n",
       "    }\n",
       "</style>\n",
       "<table border=\"1\" class=\"dataframe\">\n",
       "  <thead>\n",
       "    <tr style=\"text-align: right;\">\n",
       "      <th></th>\n",
       "      <th>Minimum Degree</th>\n",
       "      <th>Molecular Weight</th>\n",
       "      <th>Number of H-Bond Donors</th>\n",
       "      <th>Number of Rings</th>\n",
       "      <th>Number of Rotatable Bonds</th>\n",
       "      <th>Polar Surface Area</th>\n",
       "      <th>LogP</th>\n",
       "      <th>AromaticProportion</th>\n",
       "    </tr>\n",
       "  </thead>\n",
       "  <tbody>\n",
       "    <tr>\n",
       "      <th>0</th>\n",
       "      <td>1</td>\n",
       "      <td>457.432</td>\n",
       "      <td>7</td>\n",
       "      <td>3</td>\n",
       "      <td>7</td>\n",
       "      <td>202.32</td>\n",
       "      <td>-3.10802</td>\n",
       "      <td>0.187500</td>\n",
       "    </tr>\n",
       "    <tr>\n",
       "      <th>1</th>\n",
       "      <td>1</td>\n",
       "      <td>201.225</td>\n",
       "      <td>1</td>\n",
       "      <td>2</td>\n",
       "      <td>2</td>\n",
       "      <td>42.24</td>\n",
       "      <td>2.84032</td>\n",
       "      <td>0.733333</td>\n",
       "    </tr>\n",
       "    <tr>\n",
       "      <th>2</th>\n",
       "      <td>1</td>\n",
       "      <td>152.237</td>\n",
       "      <td>0</td>\n",
       "      <td>0</td>\n",
       "      <td>4</td>\n",
       "      <td>17.07</td>\n",
       "      <td>2.87800</td>\n",
       "      <td>0.000000</td>\n",
       "    </tr>\n",
       "    <tr>\n",
       "      <th>3</th>\n",
       "      <td>2</td>\n",
       "      <td>278.354</td>\n",
       "      <td>0</td>\n",
       "      <td>5</td>\n",
       "      <td>0</td>\n",
       "      <td>0.00</td>\n",
       "      <td>6.29940</td>\n",
       "      <td>1.000000</td>\n",
       "    </tr>\n",
       "    <tr>\n",
       "      <th>4</th>\n",
       "      <td>2</td>\n",
       "      <td>84.143</td>\n",
       "      <td>0</td>\n",
       "      <td>1</td>\n",
       "      <td>0</td>\n",
       "      <td>0.00</td>\n",
       "      <td>1.74810</td>\n",
       "      <td>1.000000</td>\n",
       "    </tr>\n",
       "    <tr>\n",
       "      <th>...</th>\n",
       "      <td>...</td>\n",
       "      <td>...</td>\n",
       "      <td>...</td>\n",
       "      <td>...</td>\n",
       "      <td>...</td>\n",
       "      <td>...</td>\n",
       "      <td>...</td>\n",
       "      <td>...</td>\n",
       "    </tr>\n",
       "    <tr>\n",
       "      <th>1123</th>\n",
       "      <td>1</td>\n",
       "      <td>197.381</td>\n",
       "      <td>0</td>\n",
       "      <td>0</td>\n",
       "      <td>0</td>\n",
       "      <td>0.00</td>\n",
       "      <td>2.50850</td>\n",
       "      <td>0.000000</td>\n",
       "    </tr>\n",
       "    <tr>\n",
       "      <th>1124</th>\n",
       "      <td>1</td>\n",
       "      <td>219.266</td>\n",
       "      <td>1</td>\n",
       "      <td>0</td>\n",
       "      <td>1</td>\n",
       "      <td>71.00</td>\n",
       "      <td>0.10710</td>\n",
       "      <td>0.000000</td>\n",
       "    </tr>\n",
       "    <tr>\n",
       "      <th>1125</th>\n",
       "      <td>1</td>\n",
       "      <td>246.359</td>\n",
       "      <td>0</td>\n",
       "      <td>0</td>\n",
       "      <td>7</td>\n",
       "      <td>18.46</td>\n",
       "      <td>2.99000</td>\n",
       "      <td>0.000000</td>\n",
       "    </tr>\n",
       "    <tr>\n",
       "      <th>1126</th>\n",
       "      <td>1</td>\n",
       "      <td>72.151</td>\n",
       "      <td>0</td>\n",
       "      <td>0</td>\n",
       "      <td>1</td>\n",
       "      <td>0.00</td>\n",
       "      <td>2.05240</td>\n",
       "      <td>0.000000</td>\n",
       "    </tr>\n",
       "    <tr>\n",
       "      <th>1127</th>\n",
       "      <td>1</td>\n",
       "      <td>365.964</td>\n",
       "      <td>0</td>\n",
       "      <td>1</td>\n",
       "      <td>5</td>\n",
       "      <td>44.76</td>\n",
       "      <td>5.60150</td>\n",
       "      <td>0.315789</td>\n",
       "    </tr>\n",
       "  </tbody>\n",
       "</table>\n",
       "<p>1128 rows × 8 columns</p>\n",
       "</div>"
      ],
      "text/plain": [
       "      Minimum Degree  Molecular Weight  Number of H-Bond Donors  \\\n",
       "0                  1           457.432                        7   \n",
       "1                  1           201.225                        1   \n",
       "2                  1           152.237                        0   \n",
       "3                  2           278.354                        0   \n",
       "4                  2            84.143                        0   \n",
       "...              ...               ...                      ...   \n",
       "1123               1           197.381                        0   \n",
       "1124               1           219.266                        1   \n",
       "1125               1           246.359                        0   \n",
       "1126               1            72.151                        0   \n",
       "1127               1           365.964                        0   \n",
       "\n",
       "      Number of Rings  Number of Rotatable Bonds  Polar Surface Area     LogP  \\\n",
       "0                   3                          7              202.32 -3.10802   \n",
       "1                   2                          2               42.24  2.84032   \n",
       "2                   0                          4               17.07  2.87800   \n",
       "3                   5                          0                0.00  6.29940   \n",
       "4                   1                          0                0.00  1.74810   \n",
       "...               ...                        ...                 ...      ...   \n",
       "1123                0                          0                0.00  2.50850   \n",
       "1124                0                          1               71.00  0.10710   \n",
       "1125                0                          7               18.46  2.99000   \n",
       "1126                0                          1                0.00  2.05240   \n",
       "1127                1                          5               44.76  5.60150   \n",
       "\n",
       "      AromaticProportion  \n",
       "0               0.187500  \n",
       "1               0.733333  \n",
       "2               0.000000  \n",
       "3               1.000000  \n",
       "4               1.000000  \n",
       "...                  ...  \n",
       "1123            0.000000  \n",
       "1124            0.000000  \n",
       "1125            0.000000  \n",
       "1126            0.000000  \n",
       "1127            0.315789  \n",
       "\n",
       "[1128 rows x 8 columns]"
      ]
     },
     "execution_count": 24,
     "metadata": {},
     "output_type": "execute_result"
    }
   ],
   "source": [
    "x = df_sol.drop(['Compound ID','smiles','measured log solubility in mols per litre','ESOL predicted log solubility in mols per litre','ROMol'],axis=1)\n",
    "x"
   ]
  },
  {
   "cell_type": "code",
   "execution_count": 25,
   "metadata": {
    "colab": {
     "base_uri": "https://localhost:8080/"
    },
    "id": "5P96btHME226",
    "outputId": "e03eb0e7-48db-4e9d-d673-ca790e1a7536"
   },
   "outputs": [
    {
     "data": {
      "text/plain": [
       "0      -0.770\n",
       "1      -3.300\n",
       "2      -2.060\n",
       "3      -7.870\n",
       "4      -1.330\n",
       "        ...  \n",
       "1123   -1.710\n",
       "1124    0.106\n",
       "1125   -3.091\n",
       "1126   -3.180\n",
       "1127   -4.522\n",
       "Name: measured log solubility in mols per litre, Length: 1128, dtype: float64"
      ]
     },
     "execution_count": 25,
     "metadata": {},
     "output_type": "execute_result"
    }
   ],
   "source": [
    "y = df_sol.iloc[:,8]\n",
    "y"
   ]
  },
  {
   "cell_type": "code",
   "execution_count": 26,
   "metadata": {
    "id": "gU9J8324F3tC"
   },
   "outputs": [],
   "source": [
    "from sklearn.model_selection import train_test_split\n",
    "x_train, x_test, y_train, y_test = train_test_split(x, y,  test_size=0.2, random_state = 910)"
   ]
  },
  {
   "cell_type": "code",
   "execution_count": 27,
   "metadata": {
    "id": "4KwJaPI3GDGz"
   },
   "outputs": [],
   "source": [
    "from sklearn.linear_model import LinearRegression"
   ]
  },
  {
   "cell_type": "code",
   "execution_count": 28,
   "metadata": {
    "colab": {
     "base_uri": "https://localhost:8080/"
    },
    "id": "ZsZRy6p4Ge2i",
    "outputId": "482bc8f3-77a7-426a-f689-613252b41da9"
   },
   "outputs": [
    {
     "data": {
      "text/plain": [
       "LinearRegression()"
      ]
     },
     "execution_count": 28,
     "metadata": {},
     "output_type": "execute_result"
    }
   ],
   "source": [
    "linreg_model = LinearRegression()\n",
    "linreg_model.fit(x_train, y_train)"
   ]
  },
  {
   "cell_type": "code",
   "execution_count": 29,
   "metadata": {
    "colab": {
     "base_uri": "https://localhost:8080/"
    },
    "id": "GHj_87KDHRtq",
    "outputId": "90c0c6ab-1cb1-4662-ac37-9a48d8a7e1a4"
   },
   "outputs": [
    {
     "name": "stdout",
     "output_type": "stream",
     "text": [
      "cofficients: [-0.51921652 -0.00162641 -0.14882185 -0.18696242 -0.03085297 -0.00616122\n",
      " -0.9347543  -0.09281221]\n",
      "Intercept: 0.7873097352630856\n"
     ]
    }
   ],
   "source": [
    "print('cofficients:',linreg_model.coef_)\n",
    "print('Intercept:', linreg_model.intercept_)"
   ]
  },
  {
   "cell_type": "code",
   "execution_count": 30,
   "metadata": {
    "id": "JDYMzRQFHEPx"
   },
   "outputs": [],
   "source": [
    "y_pred_train = linreg_model.predict(x_train)"
   ]
  },
  {
   "cell_type": "code",
   "execution_count": 31,
   "metadata": {
    "id": "LU5M0WxNkBYP"
   },
   "outputs": [],
   "source": [
    "y_pred_test = linreg_model.predict(x_test)"
   ]
  },
  {
   "cell_type": "code",
   "execution_count": 32,
   "metadata": {
    "id": "TQexfwC2IaKq"
   },
   "outputs": [],
   "source": [
    "from sklearn import metrics"
   ]
  },
  {
   "cell_type": "code",
   "execution_count": 33,
   "metadata": {
    "colab": {
     "base_uri": "https://localhost:8080/"
    },
    "id": "J8_U6uTUHzoi",
    "outputId": "3c52f0cf-b025-40a2-f5cf-4f82ce48a0f0"
   },
   "outputs": [
    {
     "name": "stdout",
     "output_type": "stream",
     "text": [
      "Mean squared error :  0.9782067067168796\n"
     ]
    }
   ],
   "source": [
    "print('Mean squared error : ' , np.sqrt(metrics.mean_squared_error(y_train,y_pred_train)))"
   ]
  },
  {
   "cell_type": "code",
   "execution_count": 34,
   "metadata": {
    "colab": {
     "base_uri": "https://localhost:8080/"
    },
    "id": "93ttdFxKkJ9z",
    "outputId": "8f5675c5-1a1c-48b3-cbc7-327d9fbeebca"
   },
   "outputs": [
    {
     "name": "stdout",
     "output_type": "stream",
     "text": [
      "Mean squared error :  0.9802485860980829\n"
     ]
    }
   ],
   "source": [
    "print('Mean squared error : ' , np.sqrt(metrics.mean_squared_error(y_test,y_pred_test)))"
   ]
  },
  {
   "cell_type": "code",
   "execution_count": 35,
   "metadata": {
    "colab": {
     "base_uri": "https://localhost:8080/"
    },
    "id": "wjrmqSuoJIjJ",
    "outputId": "d214235e-ae03-4398-f005-34eb94b53564"
   },
   "outputs": [
    {
     "name": "stdout",
     "output_type": "stream",
     "text": [
      "R2_score :  0.7828668231989405\n"
     ]
    }
   ],
   "source": [
    "print('R2_score : ' , metrics.r2_score(y_train,y_pred_train))"
   ]
  },
  {
   "cell_type": "code",
   "execution_count": 36,
   "metadata": {
    "colab": {
     "base_uri": "https://localhost:8080/"
    },
    "id": "e8iyl5uEkWIh",
    "outputId": "2a11ffa3-7e4b-4d8c-a65d-0d95828ea4b0"
   },
   "outputs": [
    {
     "name": "stdout",
     "output_type": "stream",
     "text": [
      "R2_score :  0.777999123462787\n"
     ]
    }
   ],
   "source": [
    "print('R2_score : ' , metrics.r2_score(y_test,y_pred_test))"
   ]
  },
  {
   "cell_type": "markdown",
   "metadata": {},
   "source": [
    "## Save the model :"
   ]
  },
  {
   "cell_type": "code",
   "execution_count": 41,
   "metadata": {
    "id": "v0lKl2uhnBXt"
   },
   "outputs": [],
   "source": [
    "import pickle"
   ]
  },
  {
   "cell_type": "code",
   "execution_count": 42,
   "metadata": {
    "id": "AY42SjVKr8Tg"
   },
   "outputs": [],
   "source": [
    "filename = 'finalized_model.sav'\n",
    "pickle.dump(linreg_model, open(filename, 'wb'))"
   ]
  },
  {
   "cell_type": "code",
   "execution_count": 43,
   "metadata": {
    "colab": {
     "base_uri": "https://localhost:8080/"
    },
    "id": "DXqIQTNXwUxb",
    "outputId": "e00a0af7-43d7-4e9e-df78-ecb2c9ba617b"
   },
   "outputs": [
    {
     "name": "stdout",
     "output_type": "stream",
     "text": [
      "0.777999123462787\n"
     ]
    }
   ],
   "source": [
    "loaded_model = pickle.load(open(filename, 'rb'))\n",
    "result = loaded_model.score(x_test, y_test)\n",
    "print(result)"
   ]
  },
  {
   "cell_type": "markdown",
   "metadata": {},
   "source": [
    "## Test Data :"
   ]
  },
  {
   "cell_type": "code",
   "execution_count": 44,
   "metadata": {},
   "outputs": [],
   "source": [
    "test_data = pd.read_csv('test.csv')"
   ]
  },
  {
   "cell_type": "code",
   "execution_count": 45,
   "metadata": {},
   "outputs": [
    {
     "data": {
      "text/html": [
       "<div>\n",
       "<style scoped>\n",
       "    .dataframe tbody tr th:only-of-type {\n",
       "        vertical-align: middle;\n",
       "    }\n",
       "\n",
       "    .dataframe tbody tr th {\n",
       "        vertical-align: top;\n",
       "    }\n",
       "\n",
       "    .dataframe thead th {\n",
       "        text-align: right;\n",
       "    }\n",
       "</style>\n",
       "<table border=\"1\" class=\"dataframe\">\n",
       "  <thead>\n",
       "    <tr style=\"text-align: right;\">\n",
       "      <th></th>\n",
       "      <th>smiles</th>\n",
       "    </tr>\n",
       "  </thead>\n",
       "  <tbody>\n",
       "    <tr>\n",
       "      <th>0</th>\n",
       "      <td>Nc1ccc(Br)cc1C(=O)O</td>\n",
       "    </tr>\n",
       "    <tr>\n",
       "      <th>1</th>\n",
       "      <td>Oc1ccc(I)cc1</td>\n",
       "    </tr>\n",
       "    <tr>\n",
       "      <th>2</th>\n",
       "      <td>O=C(O)c1cc(Br)c(O)cc1O</td>\n",
       "    </tr>\n",
       "    <tr>\n",
       "      <th>3</th>\n",
       "      <td>C=CCc1ccccc1OCC(O)CNC(C)C</td>\n",
       "    </tr>\n",
       "    <tr>\n",
       "      <th>4</th>\n",
       "      <td>NC12CC3CC(CC(C3)C1)C2</td>\n",
       "    </tr>\n",
       "  </tbody>\n",
       "</table>\n",
       "</div>"
      ],
      "text/plain": [
       "                      smiles\n",
       "0        Nc1ccc(Br)cc1C(=O)O\n",
       "1               Oc1ccc(I)cc1\n",
       "2     O=C(O)c1cc(Br)c(O)cc1O\n",
       "3  C=CCc1ccccc1OCC(O)CNC(C)C\n",
       "4      NC12CC3CC(CC(C3)C1)C2"
      ]
     },
     "execution_count": 45,
     "metadata": {},
     "output_type": "execute_result"
    }
   ],
   "source": [
    "test_data.head()"
   ]
  },
  {
   "cell_type": "code",
   "execution_count": 46,
   "metadata": {},
   "outputs": [],
   "source": [
    "def generate(smiles, verbose=False):\n",
    "\n",
    "    moldata= []\n",
    "    for elem in smiles:\n",
    "        mol=Chem.MolFromSmiles(elem) \n",
    "        moldata.append(mol)\n",
    "       \n",
    "    baseData= np.arange(1,1)\n",
    "    i=0  \n",
    "    for mol in moldata:  \n",
    "        \n",
    "        desc_MolWt = Descriptors.MolWt(mol) \n",
    "        desc_Num_Hbonddonors = Descriptors.NumHDonors(mol)\n",
    "        desc_num_rings = Descriptors.RingCount(mol)\n",
    "        desc_NumRotatableBonds = Descriptors.NumRotatableBonds(mol)\n",
    "        desc_PSA = Descriptors.TPSA(mol)       \n",
    "        desc_MolLogP = Descriptors.MolLogP(mol) \n",
    "\n",
    "           \n",
    "        row = np.array([desc_MolWt,desc_Num_Hbonddonors,desc_num_rings,desc_NumRotatableBonds,desc_PSA,desc_MolLogP,])   \n",
    "    \n",
    "        if(i==0):\n",
    "            baseData=row\n",
    "        else:\n",
    "            baseData=np.vstack([baseData, row])\n",
    "        i=i+1         \n",
    "    columnNames=[\"MolWt\",\"Number of H-Bond Donors\",\"Number of Rings\",\"NumRotatableBonds\",\"Polar Surface Area\",\"MolLogP\"]   \n",
    "    descriptors = pd.DataFrame(data=baseData,columns=columnNames)\n",
    "    \n",
    "    return descriptors"
   ]
  },
  {
   "cell_type": "code",
   "execution_count": 47,
   "metadata": {},
   "outputs": [
    {
     "data": {
      "text/html": [
       "<div>\n",
       "<style scoped>\n",
       "    .dataframe tbody tr th:only-of-type {\n",
       "        vertical-align: middle;\n",
       "    }\n",
       "\n",
       "    .dataframe tbody tr th {\n",
       "        vertical-align: top;\n",
       "    }\n",
       "\n",
       "    .dataframe thead th {\n",
       "        text-align: right;\n",
       "    }\n",
       "</style>\n",
       "<table border=\"1\" class=\"dataframe\">\n",
       "  <thead>\n",
       "    <tr style=\"text-align: right;\">\n",
       "      <th></th>\n",
       "      <th>MolWt</th>\n",
       "      <th>Number of H-Bond Donors</th>\n",
       "      <th>Number of Rings</th>\n",
       "      <th>NumRotatableBonds</th>\n",
       "      <th>Polar Surface Area</th>\n",
       "      <th>MolLogP</th>\n",
       "    </tr>\n",
       "  </thead>\n",
       "  <tbody>\n",
       "    <tr>\n",
       "      <th>0</th>\n",
       "      <td>216.034</td>\n",
       "      <td>2.0</td>\n",
       "      <td>1.0</td>\n",
       "      <td>1.0</td>\n",
       "      <td>63.32</td>\n",
       "      <td>1.72950</td>\n",
       "    </tr>\n",
       "    <tr>\n",
       "      <th>1</th>\n",
       "      <td>220.009</td>\n",
       "      <td>1.0</td>\n",
       "      <td>1.0</td>\n",
       "      <td>0.0</td>\n",
       "      <td>20.23</td>\n",
       "      <td>1.99680</td>\n",
       "    </tr>\n",
       "    <tr>\n",
       "      <th>2</th>\n",
       "      <td>233.017</td>\n",
       "      <td>3.0</td>\n",
       "      <td>1.0</td>\n",
       "      <td>1.0</td>\n",
       "      <td>77.76</td>\n",
       "      <td>1.55850</td>\n",
       "    </tr>\n",
       "    <tr>\n",
       "      <th>3</th>\n",
       "      <td>249.354</td>\n",
       "      <td>2.0</td>\n",
       "      <td>1.0</td>\n",
       "      <td>8.0</td>\n",
       "      <td>41.49</td>\n",
       "      <td>2.15280</td>\n",
       "    </tr>\n",
       "    <tr>\n",
       "      <th>4</th>\n",
       "      <td>151.253</td>\n",
       "      <td>1.0</td>\n",
       "      <td>4.0</td>\n",
       "      <td>0.0</td>\n",
       "      <td>26.02</td>\n",
       "      <td>1.91390</td>\n",
       "    </tr>\n",
       "    <tr>\n",
       "      <th>...</th>\n",
       "      <td>...</td>\n",
       "      <td>...</td>\n",
       "      <td>...</td>\n",
       "      <td>...</td>\n",
       "      <td>...</td>\n",
       "      <td>...</td>\n",
       "    </tr>\n",
       "    <tr>\n",
       "      <th>73</th>\n",
       "      <td>257.289</td>\n",
       "      <td>1.0</td>\n",
       "      <td>2.0</td>\n",
       "      <td>4.0</td>\n",
       "      <td>59.30</td>\n",
       "      <td>2.19162</td>\n",
       "    </tr>\n",
       "    <tr>\n",
       "      <th>74</th>\n",
       "      <td>290.323</td>\n",
       "      <td>2.0</td>\n",
       "      <td>2.0</td>\n",
       "      <td>5.0</td>\n",
       "      <td>105.51</td>\n",
       "      <td>1.25760</td>\n",
       "    </tr>\n",
       "    <tr>\n",
       "      <th>75</th>\n",
       "      <td>294.442</td>\n",
       "      <td>0.0</td>\n",
       "      <td>3.0</td>\n",
       "      <td>4.0</td>\n",
       "      <td>6.48</td>\n",
       "      <td>4.12100</td>\n",
       "    </tr>\n",
       "    <tr>\n",
       "      <th>76</th>\n",
       "      <td>160.220</td>\n",
       "      <td>2.0</td>\n",
       "      <td>2.0</td>\n",
       "      <td>2.0</td>\n",
       "      <td>41.81</td>\n",
       "      <td>1.66910</td>\n",
       "    </tr>\n",
       "    <tr>\n",
       "      <th>77</th>\n",
       "      <td>454.611</td>\n",
       "      <td>0.0</td>\n",
       "      <td>2.0</td>\n",
       "      <td>13.0</td>\n",
       "      <td>63.95</td>\n",
       "      <td>5.09308</td>\n",
       "    </tr>\n",
       "  </tbody>\n",
       "</table>\n",
       "<p>78 rows × 6 columns</p>\n",
       "</div>"
      ],
      "text/plain": [
       "      MolWt  Number of H-Bond Donors  Number of Rings  NumRotatableBonds  \\\n",
       "0   216.034                      2.0              1.0                1.0   \n",
       "1   220.009                      1.0              1.0                0.0   \n",
       "2   233.017                      3.0              1.0                1.0   \n",
       "3   249.354                      2.0              1.0                8.0   \n",
       "4   151.253                      1.0              4.0                0.0   \n",
       "..      ...                      ...              ...                ...   \n",
       "73  257.289                      1.0              2.0                4.0   \n",
       "74  290.323                      2.0              2.0                5.0   \n",
       "75  294.442                      0.0              3.0                4.0   \n",
       "76  160.220                      2.0              2.0                2.0   \n",
       "77  454.611                      0.0              2.0               13.0   \n",
       "\n",
       "    Polar Surface Area  MolLogP  \n",
       "0                63.32  1.72950  \n",
       "1                20.23  1.99680  \n",
       "2                77.76  1.55850  \n",
       "3                41.49  2.15280  \n",
       "4                26.02  1.91390  \n",
       "..                 ...      ...  \n",
       "73               59.30  2.19162  \n",
       "74              105.51  1.25760  \n",
       "75                6.48  4.12100  \n",
       "76               41.81  1.66910  \n",
       "77               63.95  5.09308  \n",
       "\n",
       "[78 rows x 6 columns]"
      ]
     },
     "execution_count": 47,
     "metadata": {},
     "output_type": "execute_result"
    }
   ],
   "source": [
    "df_test = generate(test_data.smiles)\n",
    "df_test"
   ]
  },
  {
   "cell_type": "code",
   "execution_count": 48,
   "metadata": {},
   "outputs": [],
   "source": [
    "test_mol_list= []\n",
    "for element in test_data.smiles:\n",
    "  mol = Chem.MolFromSmiles(element)\n",
    "  test_mol_list.append(mol)"
   ]
  },
  {
   "cell_type": "code",
   "execution_count": 49,
   "metadata": {},
   "outputs": [
    {
     "data": {
      "text/plain": [
       "78"
      ]
     },
     "execution_count": 49,
     "metadata": {},
     "output_type": "execute_result"
    }
   ],
   "source": [
    "len(test_mol_list)"
   ]
  },
  {
   "cell_type": "code",
   "execution_count": 50,
   "metadata": {},
   "outputs": [],
   "source": [
    "desc_AromaticAtoms = [AromaticAtoms(element) for element in test_mol_list]\n"
   ]
  },
  {
   "cell_type": "code",
   "execution_count": 51,
   "metadata": {},
   "outputs": [],
   "source": [
    "desc_aromatic_proportion = [AromaticAtoms(element)/Descriptors.HeavyAtomCount(element) for element in test_mol_list]"
   ]
  },
  {
   "cell_type": "code",
   "execution_count": 52,
   "metadata": {},
   "outputs": [],
   "source": [
    "columnname = ['AromaticProportion']\n",
    "df_test_aa = pd.DataFrame(desc_aromatic_proportion, columns = columnname)"
   ]
  },
  {
   "cell_type": "code",
   "execution_count": 53,
   "metadata": {
    "scrolled": true
   },
   "outputs": [
    {
     "data": {
      "text/html": [
       "<div>\n",
       "<style scoped>\n",
       "    .dataframe tbody tr th:only-of-type {\n",
       "        vertical-align: middle;\n",
       "    }\n",
       "\n",
       "    .dataframe tbody tr th {\n",
       "        vertical-align: top;\n",
       "    }\n",
       "\n",
       "    .dataframe thead th {\n",
       "        text-align: right;\n",
       "    }\n",
       "</style>\n",
       "<table border=\"1\" class=\"dataframe\">\n",
       "  <thead>\n",
       "    <tr style=\"text-align: right;\">\n",
       "      <th></th>\n",
       "      <th>MolWt</th>\n",
       "      <th>Number of H-Bond Donors</th>\n",
       "      <th>Number of Rings</th>\n",
       "      <th>NumRotatableBonds</th>\n",
       "      <th>Polar Surface Area</th>\n",
       "      <th>MolLogP</th>\n",
       "      <th>AromaticProportion</th>\n",
       "    </tr>\n",
       "  </thead>\n",
       "  <tbody>\n",
       "    <tr>\n",
       "      <th>0</th>\n",
       "      <td>216.034</td>\n",
       "      <td>2.0</td>\n",
       "      <td>1.0</td>\n",
       "      <td>1.0</td>\n",
       "      <td>63.32</td>\n",
       "      <td>1.72950</td>\n",
       "      <td>0.545455</td>\n",
       "    </tr>\n",
       "    <tr>\n",
       "      <th>1</th>\n",
       "      <td>220.009</td>\n",
       "      <td>1.0</td>\n",
       "      <td>1.0</td>\n",
       "      <td>0.0</td>\n",
       "      <td>20.23</td>\n",
       "      <td>1.99680</td>\n",
       "      <td>0.750000</td>\n",
       "    </tr>\n",
       "    <tr>\n",
       "      <th>2</th>\n",
       "      <td>233.017</td>\n",
       "      <td>3.0</td>\n",
       "      <td>1.0</td>\n",
       "      <td>1.0</td>\n",
       "      <td>77.76</td>\n",
       "      <td>1.55850</td>\n",
       "      <td>0.500000</td>\n",
       "    </tr>\n",
       "    <tr>\n",
       "      <th>3</th>\n",
       "      <td>249.354</td>\n",
       "      <td>2.0</td>\n",
       "      <td>1.0</td>\n",
       "      <td>8.0</td>\n",
       "      <td>41.49</td>\n",
       "      <td>2.15280</td>\n",
       "      <td>0.333333</td>\n",
       "    </tr>\n",
       "    <tr>\n",
       "      <th>4</th>\n",
       "      <td>151.253</td>\n",
       "      <td>1.0</td>\n",
       "      <td>4.0</td>\n",
       "      <td>0.0</td>\n",
       "      <td>26.02</td>\n",
       "      <td>1.91390</td>\n",
       "      <td>0.000000</td>\n",
       "    </tr>\n",
       "    <tr>\n",
       "      <th>...</th>\n",
       "      <td>...</td>\n",
       "      <td>...</td>\n",
       "      <td>...</td>\n",
       "      <td>...</td>\n",
       "      <td>...</td>\n",
       "      <td>...</td>\n",
       "      <td>...</td>\n",
       "    </tr>\n",
       "    <tr>\n",
       "      <th>73</th>\n",
       "      <td>257.289</td>\n",
       "      <td>1.0</td>\n",
       "      <td>2.0</td>\n",
       "      <td>4.0</td>\n",
       "      <td>59.30</td>\n",
       "      <td>2.19162</td>\n",
       "      <td>0.578947</td>\n",
       "    </tr>\n",
       "    <tr>\n",
       "      <th>74</th>\n",
       "      <td>290.323</td>\n",
       "      <td>2.0</td>\n",
       "      <td>2.0</td>\n",
       "      <td>5.0</td>\n",
       "      <td>105.51</td>\n",
       "      <td>1.25760</td>\n",
       "      <td>0.571429</td>\n",
       "    </tr>\n",
       "    <tr>\n",
       "      <th>75</th>\n",
       "      <td>294.442</td>\n",
       "      <td>0.0</td>\n",
       "      <td>3.0</td>\n",
       "      <td>4.0</td>\n",
       "      <td>6.48</td>\n",
       "      <td>4.12100</td>\n",
       "      <td>0.545455</td>\n",
       "    </tr>\n",
       "    <tr>\n",
       "      <th>76</th>\n",
       "      <td>160.220</td>\n",
       "      <td>2.0</td>\n",
       "      <td>2.0</td>\n",
       "      <td>2.0</td>\n",
       "      <td>41.81</td>\n",
       "      <td>1.66910</td>\n",
       "      <td>0.750000</td>\n",
       "    </tr>\n",
       "    <tr>\n",
       "      <th>77</th>\n",
       "      <td>454.611</td>\n",
       "      <td>0.0</td>\n",
       "      <td>2.0</td>\n",
       "      <td>13.0</td>\n",
       "      <td>63.95</td>\n",
       "      <td>5.09308</td>\n",
       "      <td>0.363636</td>\n",
       "    </tr>\n",
       "  </tbody>\n",
       "</table>\n",
       "<p>78 rows × 7 columns</p>\n",
       "</div>"
      ],
      "text/plain": [
       "      MolWt  Number of H-Bond Donors  Number of Rings  NumRotatableBonds  \\\n",
       "0   216.034                      2.0              1.0                1.0   \n",
       "1   220.009                      1.0              1.0                0.0   \n",
       "2   233.017                      3.0              1.0                1.0   \n",
       "3   249.354                      2.0              1.0                8.0   \n",
       "4   151.253                      1.0              4.0                0.0   \n",
       "..      ...                      ...              ...                ...   \n",
       "73  257.289                      1.0              2.0                4.0   \n",
       "74  290.323                      2.0              2.0                5.0   \n",
       "75  294.442                      0.0              3.0                4.0   \n",
       "76  160.220                      2.0              2.0                2.0   \n",
       "77  454.611                      0.0              2.0               13.0   \n",
       "\n",
       "    Polar Surface Area  MolLogP  AromaticProportion  \n",
       "0                63.32  1.72950            0.545455  \n",
       "1                20.23  1.99680            0.750000  \n",
       "2                77.76  1.55850            0.500000  \n",
       "3                41.49  2.15280            0.333333  \n",
       "4                26.02  1.91390            0.000000  \n",
       "..                 ...      ...                 ...  \n",
       "73               59.30  2.19162            0.578947  \n",
       "74              105.51  1.25760            0.571429  \n",
       "75                6.48  4.12100            0.545455  \n",
       "76               41.81  1.66910            0.750000  \n",
       "77               63.95  5.09308            0.363636  \n",
       "\n",
       "[78 rows x 7 columns]"
      ]
     },
     "execution_count": 53,
     "metadata": {},
     "output_type": "execute_result"
    }
   ],
   "source": [
    "df_test_sol = pd.concat([df_test,df_test_aa],axis=1)\n",
    "df_test_sol"
   ]
  },
  {
   "cell_type": "code",
   "execution_count": 54,
   "metadata": {},
   "outputs": [
    {
     "name": "stdout",
     "output_type": "stream",
     "text": [
      "cofficients: [-0.51921652 -0.00162641 -0.14882185 -0.18696242 -0.03085297 -0.00616122\n",
      " -0.9347543  -0.09281221]\n",
      "Intercept: 0.7873097352630856\n"
     ]
    }
   ],
   "source": [
    "print('cofficients:',linreg_model.coef_)\n",
    "print('Intercept:', linreg_model.intercept_)"
   ]
  },
  {
   "cell_type": "code",
   "execution_count": 55,
   "metadata": {},
   "outputs": [],
   "source": [
    "test_LogS_list = []\n",
    "for i, row in df_test_sol.iterrows():\n",
    "    test_logS = (row['MolWt']*-0.00162641)+(row['Number of H-Bond Donors']*-0.14882185)+(row['Number of Rings']*-0.18696242)+(row['NumRotatableBonds']*-0.03085297)+(row['Polar Surface Area']*-0.00616122)+(row['MolLogP']* -0.9347543)+(row['AromaticProportion']*-0.09281221)+0.7873097352630856\n",
    "    test_LogS_list.append(test_logS)\n",
    "    "
   ]
  },
  {
   "cell_type": "code",
   "execution_count": 56,
   "metadata": {},
   "outputs": [
    {
     "data": {
      "text/html": [
       "<div>\n",
       "<style scoped>\n",
       "    .dataframe tbody tr th:only-of-type {\n",
       "        vertical-align: middle;\n",
       "    }\n",
       "\n",
       "    .dataframe tbody tr th {\n",
       "        vertical-align: top;\n",
       "    }\n",
       "\n",
       "    .dataframe thead th {\n",
       "        text-align: right;\n",
       "    }\n",
       "</style>\n",
       "<table border=\"1\" class=\"dataframe\">\n",
       "  <thead>\n",
       "    <tr style=\"text-align: right;\">\n",
       "      <th></th>\n",
       "      <th>MolWt</th>\n",
       "      <th>Number of H-Bond Donors</th>\n",
       "      <th>Number of Rings</th>\n",
       "      <th>NumRotatableBonds</th>\n",
       "      <th>Polar Surface Area</th>\n",
       "      <th>MolLogP</th>\n",
       "      <th>AromaticProportion</th>\n",
       "      <th>LogS</th>\n",
       "    </tr>\n",
       "  </thead>\n",
       "  <tbody>\n",
       "    <tr>\n",
       "      <th>0</th>\n",
       "      <td>216.034</td>\n",
       "      <td>2.0</td>\n",
       "      <td>1.0</td>\n",
       "      <td>1.0</td>\n",
       "      <td>63.32</td>\n",
       "      <td>1.72950</td>\n",
       "      <td>0.545455</td>\n",
       "      <td>-2.136920</td>\n",
       "    </tr>\n",
       "    <tr>\n",
       "      <th>1</th>\n",
       "      <td>220.009</td>\n",
       "      <td>1.0</td>\n",
       "      <td>1.0</td>\n",
       "      <td>0.0</td>\n",
       "      <td>20.23</td>\n",
       "      <td>1.99680</td>\n",
       "      <td>0.750000</td>\n",
       "      <td>-1.967067</td>\n",
       "    </tr>\n",
       "    <tr>\n",
       "      <th>2</th>\n",
       "      <td>233.017</td>\n",
       "      <td>3.0</td>\n",
       "      <td>1.0</td>\n",
       "      <td>1.0</td>\n",
       "      <td>77.76</td>\n",
       "      <td>1.55850</td>\n",
       "      <td>0.500000</td>\n",
       "      <td>-2.238270</td>\n",
       "    </tr>\n",
       "    <tr>\n",
       "      <th>3</th>\n",
       "      <td>249.354</td>\n",
       "      <td>2.0</td>\n",
       "      <td>1.0</td>\n",
       "      <td>8.0</td>\n",
       "      <td>41.49</td>\n",
       "      <td>2.15280</td>\n",
       "      <td>0.333333</td>\n",
       "      <td>-2.648577</td>\n",
       "    </tr>\n",
       "    <tr>\n",
       "      <th>4</th>\n",
       "      <td>151.253</td>\n",
       "      <td>1.0</td>\n",
       "      <td>4.0</td>\n",
       "      <td>0.0</td>\n",
       "      <td>26.02</td>\n",
       "      <td>1.91390</td>\n",
       "      <td>0.000000</td>\n",
       "      <td>-2.304702</td>\n",
       "    </tr>\n",
       "    <tr>\n",
       "      <th>...</th>\n",
       "      <td>...</td>\n",
       "      <td>...</td>\n",
       "      <td>...</td>\n",
       "      <td>...</td>\n",
       "      <td>...</td>\n",
       "      <td>...</td>\n",
       "      <td>...</td>\n",
       "      <td>...</td>\n",
       "    </tr>\n",
       "    <tr>\n",
       "      <th>73</th>\n",
       "      <td>257.289</td>\n",
       "      <td>1.0</td>\n",
       "      <td>2.0</td>\n",
       "      <td>4.0</td>\n",
       "      <td>59.30</td>\n",
       "      <td>2.19162</td>\n",
       "      <td>0.578947</td>\n",
       "      <td>-2.745026</td>\n",
       "    </tr>\n",
       "    <tr>\n",
       "      <th>74</th>\n",
       "      <td>290.323</td>\n",
       "      <td>2.0</td>\n",
       "      <td>2.0</td>\n",
       "      <td>5.0</td>\n",
       "      <td>105.51</td>\n",
       "      <td>1.25760</td>\n",
       "      <td>0.571429</td>\n",
       "      <td>-2.389361</td>\n",
       "    </tr>\n",
       "    <tr>\n",
       "      <th>75</th>\n",
       "      <td>294.442</td>\n",
       "      <td>0.0</td>\n",
       "      <td>3.0</td>\n",
       "      <td>4.0</td>\n",
       "      <td>6.48</td>\n",
       "      <td>4.12100</td>\n",
       "      <td>0.545455</td>\n",
       "      <td>-4.318545</td>\n",
       "    </tr>\n",
       "    <tr>\n",
       "      <th>76</th>\n",
       "      <td>160.220</td>\n",
       "      <td>2.0</td>\n",
       "      <td>2.0</td>\n",
       "      <td>2.0</td>\n",
       "      <td>41.81</td>\n",
       "      <td>1.66910</td>\n",
       "      <td>0.750000</td>\n",
       "      <td>-2.093956</td>\n",
       "    </tr>\n",
       "    <tr>\n",
       "      <th>77</th>\n",
       "      <td>454.611</td>\n",
       "      <td>0.0</td>\n",
       "      <td>2.0</td>\n",
       "      <td>13.0</td>\n",
       "      <td>63.95</td>\n",
       "      <td>5.09308</td>\n",
       "      <td>0.363636</td>\n",
       "      <td>-5.915626</td>\n",
       "    </tr>\n",
       "  </tbody>\n",
       "</table>\n",
       "<p>78 rows × 8 columns</p>\n",
       "</div>"
      ],
      "text/plain": [
       "      MolWt  Number of H-Bond Donors  Number of Rings  NumRotatableBonds  \\\n",
       "0   216.034                      2.0              1.0                1.0   \n",
       "1   220.009                      1.0              1.0                0.0   \n",
       "2   233.017                      3.0              1.0                1.0   \n",
       "3   249.354                      2.0              1.0                8.0   \n",
       "4   151.253                      1.0              4.0                0.0   \n",
       "..      ...                      ...              ...                ...   \n",
       "73  257.289                      1.0              2.0                4.0   \n",
       "74  290.323                      2.0              2.0                5.0   \n",
       "75  294.442                      0.0              3.0                4.0   \n",
       "76  160.220                      2.0              2.0                2.0   \n",
       "77  454.611                      0.0              2.0               13.0   \n",
       "\n",
       "    Polar Surface Area  MolLogP  AromaticProportion      LogS  \n",
       "0                63.32  1.72950            0.545455 -2.136920  \n",
       "1                20.23  1.99680            0.750000 -1.967067  \n",
       "2                77.76  1.55850            0.500000 -2.238270  \n",
       "3                41.49  2.15280            0.333333 -2.648577  \n",
       "4                26.02  1.91390            0.000000 -2.304702  \n",
       "..                 ...      ...                 ...       ...  \n",
       "73               59.30  2.19162            0.578947 -2.745026  \n",
       "74              105.51  1.25760            0.571429 -2.389361  \n",
       "75                6.48  4.12100            0.545455 -4.318545  \n",
       "76               41.81  1.66910            0.750000 -2.093956  \n",
       "77               63.95  5.09308            0.363636 -5.915626  \n",
       "\n",
       "[78 rows x 8 columns]"
      ]
     },
     "execution_count": 56,
     "metadata": {},
     "output_type": "execute_result"
    }
   ],
   "source": [
    "df_test_sol['LogS'] = test_LogS_list\n",
    "df_test_sol"
   ]
  }
 ],
 "metadata": {
  "colab": {
   "collapsed_sections": [],
   "name": "Drug solubility challenge.ipynb",
   "provenance": []
  },
  "kernelspec": {
   "display_name": "Python 3",
   "language": "python",
   "name": "python3"
  },
  "language_info": {
   "codemirror_mode": {
    "name": "ipython",
    "version": 3
   },
   "file_extension": ".py",
   "mimetype": "text/x-python",
   "name": "python",
   "nbconvert_exporter": "python",
   "pygments_lexer": "ipython3",
   "version": "3.8.8"
  }
 },
 "nbformat": 4,
 "nbformat_minor": 1
}
